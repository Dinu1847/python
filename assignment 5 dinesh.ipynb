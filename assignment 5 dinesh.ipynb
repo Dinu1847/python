{
 "cells": [
  {
   "cell_type": "code",
   "execution_count": 1,
   "id": "fdf30202",
   "metadata": {},
   "outputs": [
    {
     "name": "stdout",
     "output_type": "stream",
     "text": [
      "8\n"
     ]
    }
   ],
   "source": [
    "--1\n",
    "a=11\n",
    "b=12\n",
    "print(a&b)"
   ]
  },
  {
   "cell_type": "code",
   "execution_count": 2,
   "id": "99f73e13",
   "metadata": {},
   "outputs": [
    {
     "name": "stdout",
     "output_type": "stream",
     "text": [
      "6\n"
     ]
    }
   ],
   "source": [
    "c=15\n",
    "d=22\n",
    "print(c&d)"
   ]
  },
  {
   "cell_type": "code",
   "execution_count": 3,
   "id": "40d2157b",
   "metadata": {},
   "outputs": [
    {
     "name": "stdout",
     "output_type": "stream",
     "text": [
      "44\n"
     ]
    }
   ],
   "source": [
    "e=45\n",
    "f=46\n",
    "print(e&f)"
   ]
  },
  {
   "cell_type": "code",
   "execution_count": 4,
   "id": "d52e32fd",
   "metadata": {},
   "outputs": [
    {
     "name": "stdout",
     "output_type": "stream",
     "text": [
      "15\n"
     ]
    }
   ],
   "source": [
    "---2\n",
    "a=11\n",
    "b=12\n",
    "print(a|b)"
   ]
  },
  {
   "cell_type": "code",
   "execution_count": 5,
   "id": "22bad9aa",
   "metadata": {},
   "outputs": [
    {
     "name": "stdout",
     "output_type": "stream",
     "text": [
      "55\n"
     ]
    }
   ],
   "source": [
    "s=32\n",
    "t=55\n",
    "print(s|t)"
   ]
  },
  {
   "cell_type": "code",
   "execution_count": 6,
   "id": "2ca94515",
   "metadata": {},
   "outputs": [
    {
     "name": "stdout",
     "output_type": "stream",
     "text": [
      "47\n"
     ]
    }
   ],
   "source": [
    "c=15\n",
    "e=45\n",
    "print(c|e)"
   ]
  },
  {
   "cell_type": "code",
   "execution_count": 7,
   "id": "2f3e0a1e",
   "metadata": {},
   "outputs": [
    {
     "name": "stdout",
     "output_type": "stream",
     "text": [
      "4\n"
     ]
    }
   ],
   "source": [
    "---3\n",
    "a=11\n",
    "c=15\n",
    "print(a^c)"
   ]
  },
  {
   "cell_type": "code",
   "execution_count": 9,
   "id": "15edea82",
   "metadata": {},
   "outputs": [
    {
     "name": "stdout",
     "output_type": "stream",
     "text": [
      "14\n"
     ]
    }
   ],
   "source": [
    "b=12\n",
    "d=2\n",
    "print(b^d)"
   ]
  },
  {
   "cell_type": "code",
   "execution_count": 10,
   "id": "99833a5b",
   "metadata": {},
   "outputs": [
    {
     "name": "stdout",
     "output_type": "stream",
     "text": [
      "3\n"
     ]
    }
   ],
   "source": [
    "e=45\n",
    "f=46\n",
    "print(e^f)"
   ]
  },
  {
   "cell_type": "code",
   "execution_count": null,
   "id": "64c7394e",
   "metadata": {},
   "outputs": [],
   "source": []
  }
 ],
 "metadata": {
  "kernelspec": {
   "display_name": "Python 3 (ipykernel)",
   "language": "python",
   "name": "python3"
  },
  "language_info": {
   "codemirror_mode": {
    "name": "ipython",
    "version": 3
   },
   "file_extension": ".py",
   "mimetype": "text/x-python",
   "name": "python",
   "nbconvert_exporter": "python",
   "pygments_lexer": "ipython3",
   "version": "3.9.12"
  }
 },
 "nbformat": 4,
 "nbformat_minor": 5
}
